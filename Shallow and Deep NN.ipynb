{
 "cells": [
  {
   "cell_type": "code",
   "execution_count": 1,
   "metadata": {
    "executionInfo": {
     "elapsed": 691,
     "status": "ok",
     "timestamp": 1708420028590,
     "user": {
      "displayName": "MUCHALA RUTHVIKA BTech_AIML",
      "userId": "10842854182543952045"
     },
     "user_tz": -330
    },
    "id": "3jfAhEiuxAW0"
   },
   "outputs": [],
   "source": [
    "import pandas as pd\n",
    "import numpy as np"
   ]
  },
  {
   "cell_type": "code",
   "execution_count": 2,
   "metadata": {
    "executionInfo": {
     "elapsed": 3,
     "status": "ok",
     "timestamp": 1708420319846,
     "user": {
      "displayName": "MUCHALA RUTHVIKA BTech_AIML",
      "userId": "10842854182543952045"
     },
     "user_tz": -330
    },
    "id": "uUP6L6gnxkJE"
   },
   "outputs": [],
   "source": [
    "# Load the dataset\n",
    "data = pd.read_csv(\"heart.csv\")"
   ]
  },
  {
   "cell_type": "code",
   "execution_count": 5,
   "metadata": {
    "colab": {
     "base_uri": "https://localhost:8080/",
     "height": 204
    },
    "executionInfo": {
     "elapsed": 5,
     "status": "ok",
     "timestamp": 1708420365891,
     "user": {
      "displayName": "MUCHALA RUTHVIKA BTech_AIML",
      "userId": "10842854182543952045"
     },
     "user_tz": -330
    },
    "id": "qgOdFhJQyTkT",
    "outputId": "4405d002-fb6b-43a2-b200-4cf096fa30d7"
   },
   "outputs": [
    {
     "data": {
      "text/plain": [
       "<bound method NDFrame.describe of       age  sex  cp  trestbps  chol  fbs  restecg  thalach  exang  oldpeak  \\\n",
       "0      52    1   0       125   212    0        1      168      0      1.0   \n",
       "1      53    1   0       140   203    1        0      155      1      3.1   \n",
       "2      70    1   0       145   174    0        1      125      1      2.6   \n",
       "3      61    1   0       148   203    0        1      161      0      0.0   \n",
       "4      62    0   0       138   294    1        1      106      0      1.9   \n",
       "...   ...  ...  ..       ...   ...  ...      ...      ...    ...      ...   \n",
       "1020   59    1   1       140   221    0        1      164      1      0.0   \n",
       "1021   60    1   0       125   258    0        0      141      1      2.8   \n",
       "1022   47    1   0       110   275    0        0      118      1      1.0   \n",
       "1023   50    0   0       110   254    0        0      159      0      0.0   \n",
       "1024   54    1   0       120   188    0        1      113      0      1.4   \n",
       "\n",
       "      slope  ca  thal  target  \n",
       "0         2   2     3       0  \n",
       "1         0   0     3       0  \n",
       "2         0   0     3       0  \n",
       "3         2   1     3       0  \n",
       "4         1   3     2       0  \n",
       "...     ...  ..   ...     ...  \n",
       "1020      2   0     2       1  \n",
       "1021      1   1     3       0  \n",
       "1022      1   1     2       0  \n",
       "1023      2   0     2       1  \n",
       "1024      1   1     3       0  \n",
       "\n",
       "[1025 rows x 14 columns]>"
      ]
     },
     "execution_count": 5,
     "metadata": {},
     "output_type": "execute_result"
    }
   ],
   "source": [
    "data.describe"
   ]
  },
  {
   "cell_type": "code",
   "execution_count": 6,
   "metadata": {
    "colab": {
     "base_uri": "https://localhost:8080/"
    },
    "executionInfo": {
     "elapsed": 708,
     "status": "ok",
     "timestamp": 1708420458625,
     "user": {
      "displayName": "MUCHALA RUTHVIKA BTech_AIML",
      "userId": "10842854182543952045"
     },
     "user_tz": -330
    },
    "id": "AdauQIEZy0Ma",
    "outputId": "17ac16d8-c78a-4d91-ad5e-e3b3aa9b2222"
   },
   "outputs": [
    {
     "name": "stdout",
     "output_type": "stream",
     "text": [
      "<class 'pandas.core.frame.DataFrame'>\n",
      "RangeIndex: 1025 entries, 0 to 1024\n",
      "Data columns (total 14 columns):\n",
      " #   Column    Non-Null Count  Dtype  \n",
      "---  ------    --------------  -----  \n",
      " 0   age       1025 non-null   int64  \n",
      " 1   sex       1025 non-null   int64  \n",
      " 2   cp        1025 non-null   int64  \n",
      " 3   trestbps  1025 non-null   int64  \n",
      " 4   chol      1025 non-null   int64  \n",
      " 5   fbs       1025 non-null   int64  \n",
      " 6   restecg   1025 non-null   int64  \n",
      " 7   thalach   1025 non-null   int64  \n",
      " 8   exang     1025 non-null   int64  \n",
      " 9   oldpeak   1025 non-null   float64\n",
      " 10  slope     1025 non-null   int64  \n",
      " 11  ca        1025 non-null   int64  \n",
      " 12  thal      1025 non-null   int64  \n",
      " 13  target    1025 non-null   int64  \n",
      "dtypes: float64(1), int64(13)\n",
      "memory usage: 112.2 KB\n"
     ]
    }
   ],
   "source": [
    "data.info()"
   ]
  },
  {
   "cell_type": "code",
   "execution_count": 7,
   "metadata": {
    "colab": {
     "base_uri": "https://localhost:8080/",
     "height": 363
    },
    "executionInfo": {
     "elapsed": 718,
     "status": "ok",
     "timestamp": 1708420421913,
     "user": {
      "displayName": "MUCHALA RUTHVIKA BTech_AIML",
      "userId": "10842854182543952045"
     },
     "user_tz": -330
    },
    "id": "me_d1mVvycky",
    "outputId": "86e5b0bd-3aba-4b79-9871-a3715f3e2497"
   },
   "outputs": [
    {
     "data": {
      "text/html": [
       "<div>\n",
       "<style scoped>\n",
       "    .dataframe tbody tr th:only-of-type {\n",
       "        vertical-align: middle;\n",
       "    }\n",
       "\n",
       "    .dataframe tbody tr th {\n",
       "        vertical-align: top;\n",
       "    }\n",
       "\n",
       "    .dataframe thead th {\n",
       "        text-align: right;\n",
       "    }\n",
       "</style>\n",
       "<table border=\"1\" class=\"dataframe\">\n",
       "  <thead>\n",
       "    <tr style=\"text-align: right;\">\n",
       "      <th></th>\n",
       "      <th>age</th>\n",
       "      <th>sex</th>\n",
       "      <th>cp</th>\n",
       "      <th>trestbps</th>\n",
       "      <th>chol</th>\n",
       "      <th>fbs</th>\n",
       "      <th>restecg</th>\n",
       "      <th>thalach</th>\n",
       "      <th>exang</th>\n",
       "      <th>oldpeak</th>\n",
       "      <th>slope</th>\n",
       "      <th>ca</th>\n",
       "      <th>thal</th>\n",
       "      <th>target</th>\n",
       "    </tr>\n",
       "  </thead>\n",
       "  <tbody>\n",
       "    <tr>\n",
       "      <th>0</th>\n",
       "      <td>52</td>\n",
       "      <td>1</td>\n",
       "      <td>0</td>\n",
       "      <td>125</td>\n",
       "      <td>212</td>\n",
       "      <td>0</td>\n",
       "      <td>1</td>\n",
       "      <td>168</td>\n",
       "      <td>0</td>\n",
       "      <td>1.0</td>\n",
       "      <td>2</td>\n",
       "      <td>2</td>\n",
       "      <td>3</td>\n",
       "      <td>0</td>\n",
       "    </tr>\n",
       "    <tr>\n",
       "      <th>1</th>\n",
       "      <td>53</td>\n",
       "      <td>1</td>\n",
       "      <td>0</td>\n",
       "      <td>140</td>\n",
       "      <td>203</td>\n",
       "      <td>1</td>\n",
       "      <td>0</td>\n",
       "      <td>155</td>\n",
       "      <td>1</td>\n",
       "      <td>3.1</td>\n",
       "      <td>0</td>\n",
       "      <td>0</td>\n",
       "      <td>3</td>\n",
       "      <td>0</td>\n",
       "    </tr>\n",
       "    <tr>\n",
       "      <th>2</th>\n",
       "      <td>70</td>\n",
       "      <td>1</td>\n",
       "      <td>0</td>\n",
       "      <td>145</td>\n",
       "      <td>174</td>\n",
       "      <td>0</td>\n",
       "      <td>1</td>\n",
       "      <td>125</td>\n",
       "      <td>1</td>\n",
       "      <td>2.6</td>\n",
       "      <td>0</td>\n",
       "      <td>0</td>\n",
       "      <td>3</td>\n",
       "      <td>0</td>\n",
       "    </tr>\n",
       "    <tr>\n",
       "      <th>3</th>\n",
       "      <td>61</td>\n",
       "      <td>1</td>\n",
       "      <td>0</td>\n",
       "      <td>148</td>\n",
       "      <td>203</td>\n",
       "      <td>0</td>\n",
       "      <td>1</td>\n",
       "      <td>161</td>\n",
       "      <td>0</td>\n",
       "      <td>0.0</td>\n",
       "      <td>2</td>\n",
       "      <td>1</td>\n",
       "      <td>3</td>\n",
       "      <td>0</td>\n",
       "    </tr>\n",
       "    <tr>\n",
       "      <th>4</th>\n",
       "      <td>62</td>\n",
       "      <td>0</td>\n",
       "      <td>0</td>\n",
       "      <td>138</td>\n",
       "      <td>294</td>\n",
       "      <td>1</td>\n",
       "      <td>1</td>\n",
       "      <td>106</td>\n",
       "      <td>0</td>\n",
       "      <td>1.9</td>\n",
       "      <td>1</td>\n",
       "      <td>3</td>\n",
       "      <td>2</td>\n",
       "      <td>0</td>\n",
       "    </tr>\n",
       "    <tr>\n",
       "      <th>5</th>\n",
       "      <td>58</td>\n",
       "      <td>0</td>\n",
       "      <td>0</td>\n",
       "      <td>100</td>\n",
       "      <td>248</td>\n",
       "      <td>0</td>\n",
       "      <td>0</td>\n",
       "      <td>122</td>\n",
       "      <td>0</td>\n",
       "      <td>1.0</td>\n",
       "      <td>1</td>\n",
       "      <td>0</td>\n",
       "      <td>2</td>\n",
       "      <td>1</td>\n",
       "    </tr>\n",
       "    <tr>\n",
       "      <th>6</th>\n",
       "      <td>58</td>\n",
       "      <td>1</td>\n",
       "      <td>0</td>\n",
       "      <td>114</td>\n",
       "      <td>318</td>\n",
       "      <td>0</td>\n",
       "      <td>2</td>\n",
       "      <td>140</td>\n",
       "      <td>0</td>\n",
       "      <td>4.4</td>\n",
       "      <td>0</td>\n",
       "      <td>3</td>\n",
       "      <td>1</td>\n",
       "      <td>0</td>\n",
       "    </tr>\n",
       "    <tr>\n",
       "      <th>7</th>\n",
       "      <td>55</td>\n",
       "      <td>1</td>\n",
       "      <td>0</td>\n",
       "      <td>160</td>\n",
       "      <td>289</td>\n",
       "      <td>0</td>\n",
       "      <td>0</td>\n",
       "      <td>145</td>\n",
       "      <td>1</td>\n",
       "      <td>0.8</td>\n",
       "      <td>1</td>\n",
       "      <td>1</td>\n",
       "      <td>3</td>\n",
       "      <td>0</td>\n",
       "    </tr>\n",
       "    <tr>\n",
       "      <th>8</th>\n",
       "      <td>46</td>\n",
       "      <td>1</td>\n",
       "      <td>0</td>\n",
       "      <td>120</td>\n",
       "      <td>249</td>\n",
       "      <td>0</td>\n",
       "      <td>0</td>\n",
       "      <td>144</td>\n",
       "      <td>0</td>\n",
       "      <td>0.8</td>\n",
       "      <td>2</td>\n",
       "      <td>0</td>\n",
       "      <td>3</td>\n",
       "      <td>0</td>\n",
       "    </tr>\n",
       "    <tr>\n",
       "      <th>9</th>\n",
       "      <td>54</td>\n",
       "      <td>1</td>\n",
       "      <td>0</td>\n",
       "      <td>122</td>\n",
       "      <td>286</td>\n",
       "      <td>0</td>\n",
       "      <td>0</td>\n",
       "      <td>116</td>\n",
       "      <td>1</td>\n",
       "      <td>3.2</td>\n",
       "      <td>1</td>\n",
       "      <td>2</td>\n",
       "      <td>2</td>\n",
       "      <td>0</td>\n",
       "    </tr>\n",
       "  </tbody>\n",
       "</table>\n",
       "</div>"
      ],
      "text/plain": [
       "   age  sex  cp  trestbps  chol  fbs  restecg  thalach  exang  oldpeak  slope  \\\n",
       "0   52    1   0       125   212    0        1      168      0      1.0      2   \n",
       "1   53    1   0       140   203    1        0      155      1      3.1      0   \n",
       "2   70    1   0       145   174    0        1      125      1      2.6      0   \n",
       "3   61    1   0       148   203    0        1      161      0      0.0      2   \n",
       "4   62    0   0       138   294    1        1      106      0      1.9      1   \n",
       "5   58    0   0       100   248    0        0      122      0      1.0      1   \n",
       "6   58    1   0       114   318    0        2      140      0      4.4      0   \n",
       "7   55    1   0       160   289    0        0      145      1      0.8      1   \n",
       "8   46    1   0       120   249    0        0      144      0      0.8      2   \n",
       "9   54    1   0       122   286    0        0      116      1      3.2      1   \n",
       "\n",
       "   ca  thal  target  \n",
       "0   2     3       0  \n",
       "1   0     3       0  \n",
       "2   0     3       0  \n",
       "3   1     3       0  \n",
       "4   3     2       0  \n",
       "5   0     2       1  \n",
       "6   3     1       0  \n",
       "7   1     3       0  \n",
       "8   0     3       0  \n",
       "9   2     2       0  "
      ]
     },
     "execution_count": 7,
     "metadata": {},
     "output_type": "execute_result"
    }
   ],
   "source": [
    "# Display data from the dataset\n",
    "data.head(10)"
   ]
  },
  {
   "cell_type": "code",
   "execution_count": 8,
   "metadata": {
    "colab": {
     "base_uri": "https://localhost:8080/"
    },
    "executionInfo": {
     "elapsed": 4,
     "status": "ok",
     "timestamp": 1708420530238,
     "user": {
      "displayName": "MUCHALA RUTHVIKA BTech_AIML",
      "userId": "10842854182543952045"
     },
     "user_tz": -330
    },
    "id": "OPWdYwMMylr3",
    "outputId": "97f48fac-fafc-42e6-b0e3-879ca9424caa"
   },
   "outputs": [
    {
     "data": {
      "text/plain": [
       "(1025, 14)"
      ]
     },
     "execution_count": 8,
     "metadata": {},
     "output_type": "execute_result"
    }
   ],
   "source": [
    "# Display rows and columns\n",
    "data.shape"
   ]
  },
  {
   "cell_type": "code",
   "execution_count": 9,
   "metadata": {
    "executionInfo": {
     "elapsed": 4,
     "status": "ok",
     "timestamp": 1708420684549,
     "user": {
      "displayName": "MUCHALA RUTHVIKA BTech_AIML",
      "userId": "10842854182543952045"
     },
     "user_tz": -330
    },
    "id": "ZBg5M-MrzHgj"
   },
   "outputs": [],
   "source": [
    "# Seperate the input features\n",
    "x = data.iloc[:, :-1].values"
   ]
  },
  {
   "cell_type": "code",
   "execution_count": 10,
   "metadata": {
    "colab": {
     "base_uri": "https://localhost:8080/"
    },
    "executionInfo": {
     "elapsed": 469,
     "status": "ok",
     "timestamp": 1708420772176,
     "user": {
      "displayName": "MUCHALA RUTHVIKA BTech_AIML",
      "userId": "10842854182543952045"
     },
     "user_tz": -330
    },
    "id": "CHCXUzd_ztVM",
    "outputId": "a244e968-166a-446e-8aa2-19b1c9f3baaf"
   },
   "outputs": [
    {
     "data": {
      "text/plain": [
       "(1025, 13)"
      ]
     },
     "execution_count": 10,
     "metadata": {},
     "output_type": "execute_result"
    }
   ],
   "source": [
    "x.shape\n"
   ]
  },
  {
   "cell_type": "code",
   "execution_count": 11,
   "metadata": {
    "colab": {
     "base_uri": "https://localhost:8080/"
    },
    "executionInfo": {
     "elapsed": 3,
     "status": "ok",
     "timestamp": 1708420801840,
     "user": {
      "displayName": "MUCHALA RUTHVIKA BTech_AIML",
      "userId": "10842854182543952045"
     },
     "user_tz": -330
    },
    "id": "N-QkEfRf0CsE",
    "outputId": "f4c93a91-e533-452b-8af9-a558411f542f"
   },
   "outputs": [
    {
     "data": {
      "text/plain": [
       "array([[52.,  1.,  0., ...,  2.,  2.,  3.],\n",
       "       [53.,  1.,  0., ...,  0.,  0.,  3.],\n",
       "       [70.,  1.,  0., ...,  0.,  0.,  3.],\n",
       "       ...,\n",
       "       [47.,  1.,  0., ...,  1.,  1.,  2.],\n",
       "       [50.,  0.,  0., ...,  2.,  0.,  2.],\n",
       "       [54.,  1.,  0., ...,  1.,  1.,  3.]])"
      ]
     },
     "execution_count": 11,
     "metadata": {},
     "output_type": "execute_result"
    }
   ],
   "source": [
    "# Display the value of x\n",
    "x"
   ]
  },
  {
   "cell_type": "code",
   "execution_count": 19,
   "metadata": {
    "executionInfo": {
     "elapsed": 3,
     "status": "ok",
     "timestamp": 1708420854159,
     "user": {
      "displayName": "MUCHALA RUTHVIKA BTech_AIML",
      "userId": "10842854182543952045"
     },
     "user_tz": -330
    },
    "id": "Pai08Pqr0J7c"
   },
   "outputs": [],
   "source": [
    "y = data.iloc[:, -1].values"
   ]
  },
  {
   "cell_type": "code",
   "execution_count": 20,
   "metadata": {
    "colab": {
     "base_uri": "https://localhost:8080/"
    },
    "executionInfo": {
     "elapsed": 2,
     "status": "ok",
     "timestamp": 1708420872111,
     "user": {
      "displayName": "MUCHALA RUTHVIKA BTech_AIML",
      "userId": "10842854182543952045"
     },
     "user_tz": -330
    },
    "id": "tmee8uTv0Rmd",
    "outputId": "0289fba0-850e-4cb0-de71-98c12b984119"
   },
   "outputs": [
    {
     "data": {
      "text/plain": [
       "(1025,)"
      ]
     },
     "execution_count": 20,
     "metadata": {},
     "output_type": "execute_result"
    }
   ],
   "source": [
    "y.shape"
   ]
  },
  {
   "cell_type": "code",
   "execution_count": 21,
   "metadata": {
    "executionInfo": {
     "elapsed": 4,
     "status": "ok",
     "timestamp": 1708421356593,
     "user": {
      "displayName": "MUCHALA RUTHVIKA BTech_AIML",
      "userId": "10842854182543952045"
     },
     "user_tz": -330
    },
    "id": "RHtK1mPu0bHo"
   },
   "outputs": [],
   "source": [
    "# import tensor flow libraries\n",
    "from keras.models import Sequential\n",
    "from keras.layers import Dense\n",
    "from sklearn.model_selection import train_test_split\n",
    "from tensorflow.keras.optimizers import SGD\n"
   ]
  },
  {
   "cell_type": "code",
   "execution_count": 22,
   "metadata": {
    "executionInfo": {
     "elapsed": 445,
     "status": "ok",
     "timestamp": 1708421618001,
     "user": {
      "displayName": "MUCHALA RUTHVIKA BTech_AIML",
      "userId": "10842854182543952045"
     },
     "user_tz": -330
    },
    "id": "uiCBkeQO2RWq"
   },
   "outputs": [],
   "source": [
    "# Split matrices into training and testing\n",
    "x_train, x_test, y_train, y_test = train_test_split(x,y,test_size=0.2)"
   ]
  },
  {
   "cell_type": "code",
   "execution_count": 23,
   "metadata": {
    "colab": {
     "base_uri": "https://localhost:8080/"
    },
    "executionInfo": {
     "elapsed": 3,
     "status": "ok",
     "timestamp": 1708421632131,
     "user": {
      "displayName": "MUCHALA RUTHVIKA BTech_AIML",
      "userId": "10842854182543952045"
     },
     "user_tz": -330
    },
    "id": "m5ixEdyl3RMg",
    "outputId": "c7d0a832-7da3-4b84-b307-1214d0d96e51"
   },
   "outputs": [
    {
     "data": {
      "text/plain": [
       "(820, 13)"
      ]
     },
     "execution_count": 23,
     "metadata": {},
     "output_type": "execute_result"
    }
   ],
   "source": [
    "# Display the shape for x_train\n",
    "x_train.shape"
   ]
  },
  {
   "cell_type": "code",
   "execution_count": 24,
   "metadata": {
    "colab": {
     "base_uri": "https://localhost:8080/"
    },
    "executionInfo": {
     "elapsed": 5,
     "status": "ok",
     "timestamp": 1708421652956,
     "user": {
      "displayName": "MUCHALA RUTHVIKA BTech_AIML",
      "userId": "10842854182543952045"
     },
     "user_tz": -330
    },
    "id": "EbWJ7P_L3UoB",
    "outputId": "cd60a078-6e71-4b6a-b695-5c8a38acc0a8"
   },
   "outputs": [
    {
     "data": {
      "text/plain": [
       "(205, 13)"
      ]
     },
     "execution_count": 24,
     "metadata": {},
     "output_type": "execute_result"
    }
   ],
   "source": [
    "# Display the shape for x_test\n",
    "x_test.shape"
   ]
  },
  {
   "cell_type": "code",
   "execution_count": 26,
   "metadata": {
    "colab": {
     "base_uri": "https://localhost:8080/"
    },
    "executionInfo": {
     "elapsed": 444,
     "status": "ok",
     "timestamp": 1708421750690,
     "user": {
      "displayName": "MUCHALA RUTHVIKA BTech_AIML",
      "userId": "10842854182543952045"
     },
     "user_tz": -330
    },
    "id": "tbc4srIe3Zsr",
    "outputId": "b3f3bd99-d81a-4128-fddd-932e52f1a9db"
   },
   "outputs": [
    {
     "data": {
      "text/plain": [
       "(820,)"
      ]
     },
     "execution_count": 26,
     "metadata": {},
     "output_type": "execute_result"
    }
   ],
   "source": [
    "# Display the shape for y_train\n",
    "y_train.shape"
   ]
  },
  {
   "cell_type": "code",
   "execution_count": 33,
   "metadata": {
    "executionInfo": {
     "elapsed": 529,
     "status": "ok",
     "timestamp": 1708423273523,
     "user": {
      "displayName": "MUCHALA RUTHVIKA BTech_AIML",
      "userId": "10842854182543952045"
     },
     "user_tz": -330
    },
    "id": "Xd2kHl-s3tqK"
   },
   "outputs": [],
   "source": [
    "# Shallow Neural Network\n",
    "model = Sequential()\n",
    "\n",
    "# Add the input layer with 13 neurons(because of 13 features) and no activation function\n",
    "model.add(Dense(13, input_dim = 13))\n",
    "\n",
    "# Add the hidden layer with 8 neurons and relu activation\n",
    "model.add(Dense(8, activation = 'relu'))\n",
    "\n",
    "# Add the output layer with 1 neurons and relu activation = sigmoid\n",
    "model.add(Dense(1, activation = 'sigmoid'))\n",
    "\n"
   ]
  },
  {
   "cell_type": "code",
   "execution_count": 34,
   "metadata": {
    "executionInfo": {
     "elapsed": 2,
     "status": "ok",
     "timestamp": 1708423274003,
     "user": {
      "displayName": "MUCHALA RUTHVIKA BTech_AIML",
      "userId": "10842854182543952045"
     },
     "user_tz": -330
    },
    "id": "lyMDJtrx51BX"
   },
   "outputs": [],
   "source": [
    "# compile this model\n",
    "optimizer = SGD(learning_rate = 0.01)\n",
    "model.compile(optimizer = optimizer, loss = 'binary_crossentropy', metrics = ['accuracy'] )"
   ]
  },
  {
   "cell_type": "code",
   "execution_count": 35,
   "metadata": {
    "colab": {
     "base_uri": "https://localhost:8080/"
    },
    "executionInfo": {
     "elapsed": 21595,
     "status": "ok",
     "timestamp": 1708423296075,
     "user": {
      "displayName": "MUCHALA RUTHVIKA BTech_AIML",
      "userId": "10842854182543952045"
     },
     "user_tz": -330
    },
    "id": "U0gQQOe47vLh",
    "outputId": "cfe80c50-69bd-42c9-a144-b282b758bd08"
   },
   "outputs": [
    {
     "name": "stdout",
     "output_type": "stream",
     "text": [
      "Epoch 1/100\n",
      "26/26 [==============================] - 1s 15ms/step - loss: 14.5432 - accuracy: 0.5341 - val_loss: 0.6933 - val_accuracy: 0.4878\n",
      "Epoch 2/100\n",
      "26/26 [==============================] - 0s 5ms/step - loss: 0.6930 - accuracy: 0.5195 - val_loss: 0.6934 - val_accuracy: 0.4878\n",
      "Epoch 3/100\n",
      "26/26 [==============================] - 0s 5ms/step - loss: 0.6929 - accuracy: 0.5195 - val_loss: 0.6934 - val_accuracy: 0.4878\n",
      "Epoch 4/100\n",
      "26/26 [==============================] - 0s 5ms/step - loss: 0.6928 - accuracy: 0.5195 - val_loss: 0.6935 - val_accuracy: 0.4878\n",
      "Epoch 5/100\n",
      "26/26 [==============================] - 0s 5ms/step - loss: 0.6928 - accuracy: 0.5195 - val_loss: 0.6936 - val_accuracy: 0.4878\n",
      "Epoch 6/100\n",
      "26/26 [==============================] - 0s 7ms/step - loss: 0.6927 - accuracy: 0.5195 - val_loss: 0.6936 - val_accuracy: 0.4878\n",
      "Epoch 7/100\n",
      "26/26 [==============================] - 0s 5ms/step - loss: 0.6927 - accuracy: 0.5195 - val_loss: 0.6937 - val_accuracy: 0.4878\n",
      "Epoch 8/100\n",
      "26/26 [==============================] - 0s 5ms/step - loss: 0.6927 - accuracy: 0.5195 - val_loss: 0.6937 - val_accuracy: 0.4878\n",
      "Epoch 9/100\n",
      "26/26 [==============================] - 0s 5ms/step - loss: 0.6926 - accuracy: 0.5195 - val_loss: 0.6938 - val_accuracy: 0.4878\n",
      "Epoch 10/100\n",
      "26/26 [==============================] - 0s 6ms/step - loss: 0.6926 - accuracy: 0.5195 - val_loss: 0.6938 - val_accuracy: 0.4878\n",
      "Epoch 11/100\n",
      "26/26 [==============================] - 0s 5ms/step - loss: 0.6926 - accuracy: 0.5195 - val_loss: 0.6939 - val_accuracy: 0.4878\n",
      "Epoch 12/100\n",
      "26/26 [==============================] - 0s 6ms/step - loss: 0.6926 - accuracy: 0.5195 - val_loss: 0.6940 - val_accuracy: 0.4878\n",
      "Epoch 13/100\n",
      "26/26 [==============================] - 0s 6ms/step - loss: 0.6925 - accuracy: 0.5195 - val_loss: 0.6940 - val_accuracy: 0.4878\n",
      "Epoch 14/100\n",
      "26/26 [==============================] - 0s 6ms/step - loss: 0.6925 - accuracy: 0.5195 - val_loss: 0.6940 - val_accuracy: 0.4878\n",
      "Epoch 15/100\n",
      "26/26 [==============================] - 0s 6ms/step - loss: 0.6925 - accuracy: 0.5195 - val_loss: 0.6941 - val_accuracy: 0.4878\n",
      "Epoch 16/100\n",
      "26/26 [==============================] - 0s 4ms/step - loss: 0.6925 - accuracy: 0.5195 - val_loss: 0.6941 - val_accuracy: 0.4878\n",
      "Epoch 17/100\n",
      "26/26 [==============================] - 0s 3ms/step - loss: 0.6925 - accuracy: 0.5195 - val_loss: 0.6942 - val_accuracy: 0.4878\n",
      "Epoch 18/100\n",
      "26/26 [==============================] - 0s 3ms/step - loss: 0.6925 - accuracy: 0.5195 - val_loss: 0.6942 - val_accuracy: 0.4878\n",
      "Epoch 19/100\n",
      "26/26 [==============================] - 0s 4ms/step - loss: 0.6925 - accuracy: 0.5195 - val_loss: 0.6943 - val_accuracy: 0.4878\n",
      "Epoch 20/100\n",
      "26/26 [==============================] - 0s 3ms/step - loss: 0.6925 - accuracy: 0.5195 - val_loss: 0.6943 - val_accuracy: 0.4878\n",
      "Epoch 21/100\n",
      "26/26 [==============================] - 0s 3ms/step - loss: 0.6925 - accuracy: 0.5195 - val_loss: 0.6944 - val_accuracy: 0.4878\n",
      "Epoch 22/100\n",
      "26/26 [==============================] - 0s 6ms/step - loss: 0.6925 - accuracy: 0.5195 - val_loss: 0.6944 - val_accuracy: 0.4878\n",
      "Epoch 23/100\n",
      "26/26 [==============================] - 0s 3ms/step - loss: 0.6924 - accuracy: 0.5195 - val_loss: 0.6944 - val_accuracy: 0.4878\n",
      "Epoch 24/100\n",
      "26/26 [==============================] - 0s 3ms/step - loss: 0.6924 - accuracy: 0.5195 - val_loss: 0.6944 - val_accuracy: 0.4878\n",
      "Epoch 25/100\n",
      "26/26 [==============================] - 0s 3ms/step - loss: 0.6924 - accuracy: 0.5195 - val_loss: 0.6944 - val_accuracy: 0.4878\n",
      "Epoch 26/100\n",
      "26/26 [==============================] - 0s 4ms/step - loss: 0.6924 - accuracy: 0.5195 - val_loss: 0.6945 - val_accuracy: 0.4878\n",
      "Epoch 27/100\n",
      "26/26 [==============================] - 0s 3ms/step - loss: 0.6924 - accuracy: 0.5195 - val_loss: 0.6945 - val_accuracy: 0.4878\n",
      "Epoch 28/100\n",
      "26/26 [==============================] - 0s 4ms/step - loss: 0.6924 - accuracy: 0.5195 - val_loss: 0.6945 - val_accuracy: 0.4878\n",
      "Epoch 29/100\n",
      "26/26 [==============================] - 0s 3ms/step - loss: 0.6924 - accuracy: 0.5195 - val_loss: 0.6945 - val_accuracy: 0.4878\n",
      "Epoch 30/100\n",
      "26/26 [==============================] - 0s 4ms/step - loss: 0.6924 - accuracy: 0.5195 - val_loss: 0.6946 - val_accuracy: 0.4878\n",
      "Epoch 31/100\n",
      "26/26 [==============================] - 0s 4ms/step - loss: 0.6924 - accuracy: 0.5195 - val_loss: 0.6946 - val_accuracy: 0.4878\n",
      "Epoch 32/100\n",
      "26/26 [==============================] - 0s 4ms/step - loss: 0.6924 - accuracy: 0.5195 - val_loss: 0.6946 - val_accuracy: 0.4878\n",
      "Epoch 33/100\n",
      "26/26 [==============================] - 0s 3ms/step - loss: 0.6924 - accuracy: 0.5195 - val_loss: 0.6946 - val_accuracy: 0.4878\n",
      "Epoch 34/100\n",
      "26/26 [==============================] - 0s 4ms/step - loss: 0.6924 - accuracy: 0.5195 - val_loss: 0.6946 - val_accuracy: 0.4878\n",
      "Epoch 35/100\n",
      "26/26 [==============================] - 0s 4ms/step - loss: 0.6924 - accuracy: 0.5195 - val_loss: 0.6946 - val_accuracy: 0.4878\n",
      "Epoch 36/100\n",
      "26/26 [==============================] - 0s 4ms/step - loss: 0.6924 - accuracy: 0.5195 - val_loss: 0.6947 - val_accuracy: 0.4878\n",
      "Epoch 37/100\n",
      "26/26 [==============================] - 0s 4ms/step - loss: 0.6924 - accuracy: 0.5195 - val_loss: 0.6947 - val_accuracy: 0.4878\n",
      "Epoch 38/100\n",
      "26/26 [==============================] - 0s 3ms/step - loss: 0.6924 - accuracy: 0.5195 - val_loss: 0.6947 - val_accuracy: 0.4878\n",
      "Epoch 39/100\n",
      "26/26 [==============================] - 0s 3ms/step - loss: 0.6924 - accuracy: 0.5195 - val_loss: 0.6947 - val_accuracy: 0.4878\n",
      "Epoch 40/100\n",
      "26/26 [==============================] - 0s 4ms/step - loss: 0.6924 - accuracy: 0.5195 - val_loss: 0.6947 - val_accuracy: 0.4878\n",
      "Epoch 41/100\n",
      "26/26 [==============================] - 0s 4ms/step - loss: 0.6924 - accuracy: 0.5195 - val_loss: 0.6947 - val_accuracy: 0.4878\n",
      "Epoch 42/100\n",
      "26/26 [==============================] - 0s 4ms/step - loss: 0.6924 - accuracy: 0.5195 - val_loss: 0.6947 - val_accuracy: 0.4878\n",
      "Epoch 43/100\n",
      "26/26 [==============================] - 0s 4ms/step - loss: 0.6924 - accuracy: 0.5195 - val_loss: 0.6947 - val_accuracy: 0.4878\n",
      "Epoch 44/100\n",
      "26/26 [==============================] - 0s 3ms/step - loss: 0.6924 - accuracy: 0.5195 - val_loss: 0.6947 - val_accuracy: 0.4878\n",
      "Epoch 45/100\n",
      "26/26 [==============================] - 0s 3ms/step - loss: 0.6924 - accuracy: 0.5195 - val_loss: 0.6947 - val_accuracy: 0.4878\n",
      "Epoch 46/100\n",
      "26/26 [==============================] - 0s 3ms/step - loss: 0.6924 - accuracy: 0.5195 - val_loss: 0.6948 - val_accuracy: 0.4878\n",
      "Epoch 47/100\n",
      "26/26 [==============================] - 0s 3ms/step - loss: 0.6924 - accuracy: 0.5195 - val_loss: 0.6948 - val_accuracy: 0.4878\n",
      "Epoch 48/100\n",
      "26/26 [==============================] - 0s 3ms/step - loss: 0.6924 - accuracy: 0.5195 - val_loss: 0.6948 - val_accuracy: 0.4878\n",
      "Epoch 49/100\n",
      "26/26 [==============================] - 0s 3ms/step - loss: 0.6924 - accuracy: 0.5195 - val_loss: 0.6948 - val_accuracy: 0.4878\n",
      "Epoch 50/100\n",
      "26/26 [==============================] - 0s 3ms/step - loss: 0.6924 - accuracy: 0.5195 - val_loss: 0.6948 - val_accuracy: 0.4878\n",
      "Epoch 51/100\n",
      "26/26 [==============================] - 0s 3ms/step - loss: 0.6924 - accuracy: 0.5195 - val_loss: 0.6948 - val_accuracy: 0.4878\n",
      "Epoch 52/100\n",
      "26/26 [==============================] - 0s 4ms/step - loss: 0.6924 - accuracy: 0.5195 - val_loss: 0.6948 - val_accuracy: 0.4878\n",
      "Epoch 53/100\n",
      "26/26 [==============================] - 0s 3ms/step - loss: 0.6924 - accuracy: 0.5195 - val_loss: 0.6948 - val_accuracy: 0.4878\n",
      "Epoch 54/100\n",
      "26/26 [==============================] - 0s 4ms/step - loss: 0.6924 - accuracy: 0.5195 - val_loss: 0.6948 - val_accuracy: 0.4878\n",
      "Epoch 55/100\n",
      "26/26 [==============================] - 0s 4ms/step - loss: 0.6924 - accuracy: 0.5195 - val_loss: 0.6948 - val_accuracy: 0.4878\n",
      "Epoch 56/100\n",
      "26/26 [==============================] - 0s 4ms/step - loss: 0.6924 - accuracy: 0.5195 - val_loss: 0.6948 - val_accuracy: 0.4878\n",
      "Epoch 57/100\n",
      "26/26 [==============================] - 0s 3ms/step - loss: 0.6924 - accuracy: 0.5195 - val_loss: 0.6948 - val_accuracy: 0.4878\n",
      "Epoch 58/100\n",
      "26/26 [==============================] - 0s 3ms/step - loss: 0.6924 - accuracy: 0.5195 - val_loss: 0.6948 - val_accuracy: 0.4878\n",
      "Epoch 59/100\n",
      "26/26 [==============================] - 0s 3ms/step - loss: 0.6924 - accuracy: 0.5195 - val_loss: 0.6948 - val_accuracy: 0.4878\n",
      "Epoch 60/100\n",
      "26/26 [==============================] - 0s 3ms/step - loss: 0.6924 - accuracy: 0.5195 - val_loss: 0.6948 - val_accuracy: 0.4878\n",
      "Epoch 61/100\n",
      "26/26 [==============================] - 0s 4ms/step - loss: 0.6924 - accuracy: 0.5195 - val_loss: 0.6948 - val_accuracy: 0.4878\n",
      "Epoch 62/100\n",
      "26/26 [==============================] - 0s 3ms/step - loss: 0.6924 - accuracy: 0.5195 - val_loss: 0.6948 - val_accuracy: 0.4878\n",
      "Epoch 63/100\n",
      "26/26 [==============================] - 0s 4ms/step - loss: 0.6924 - accuracy: 0.5195 - val_loss: 0.6948 - val_accuracy: 0.4878\n",
      "Epoch 64/100\n",
      "26/26 [==============================] - 0s 3ms/step - loss: 0.6924 - accuracy: 0.5195 - val_loss: 0.6948 - val_accuracy: 0.4878\n",
      "Epoch 65/100\n",
      "26/26 [==============================] - 0s 4ms/step - loss: 0.6924 - accuracy: 0.5195 - val_loss: 0.6948 - val_accuracy: 0.4878\n",
      "Epoch 66/100\n",
      "26/26 [==============================] - 0s 3ms/step - loss: 0.6924 - accuracy: 0.5195 - val_loss: 0.6948 - val_accuracy: 0.4878\n",
      "Epoch 67/100\n",
      "26/26 [==============================] - 0s 4ms/step - loss: 0.6924 - accuracy: 0.5195 - val_loss: 0.6948 - val_accuracy: 0.4878\n",
      "Epoch 68/100\n",
      "26/26 [==============================] - 0s 3ms/step - loss: 0.6924 - accuracy: 0.5195 - val_loss: 0.6948 - val_accuracy: 0.4878\n",
      "Epoch 69/100\n",
      "26/26 [==============================] - 0s 3ms/step - loss: 0.6924 - accuracy: 0.5195 - val_loss: 0.6948 - val_accuracy: 0.4878\n",
      "Epoch 70/100\n",
      "26/26 [==============================] - 0s 4ms/step - loss: 0.6924 - accuracy: 0.5195 - val_loss: 0.6948 - val_accuracy: 0.4878\n",
      "Epoch 71/100\n",
      "26/26 [==============================] - 0s 3ms/step - loss: 0.6924 - accuracy: 0.5195 - val_loss: 0.6948 - val_accuracy: 0.4878\n",
      "Epoch 72/100\n",
      "26/26 [==============================] - 0s 3ms/step - loss: 0.6924 - accuracy: 0.5195 - val_loss: 0.6948 - val_accuracy: 0.4878\n",
      "Epoch 73/100\n",
      "26/26 [==============================] - 0s 4ms/step - loss: 0.6924 - accuracy: 0.5195 - val_loss: 0.6948 - val_accuracy: 0.4878\n",
      "Epoch 74/100\n",
      "26/26 [==============================] - 0s 3ms/step - loss: 0.6924 - accuracy: 0.5195 - val_loss: 0.6948 - val_accuracy: 0.4878\n",
      "Epoch 75/100\n",
      "26/26 [==============================] - 0s 3ms/step - loss: 0.6924 - accuracy: 0.5195 - val_loss: 0.6948 - val_accuracy: 0.4878\n",
      "Epoch 76/100\n",
      "26/26 [==============================] - 0s 3ms/step - loss: 0.6924 - accuracy: 0.5195 - val_loss: 0.6948 - val_accuracy: 0.4878\n",
      "Epoch 77/100\n",
      "26/26 [==============================] - 0s 4ms/step - loss: 0.6924 - accuracy: 0.5195 - val_loss: 0.6948 - val_accuracy: 0.4878\n",
      "Epoch 78/100\n",
      "26/26 [==============================] - 0s 4ms/step - loss: 0.6924 - accuracy: 0.5195 - val_loss: 0.6948 - val_accuracy: 0.4878\n",
      "Epoch 79/100\n",
      "26/26 [==============================] - 0s 3ms/step - loss: 0.6924 - accuracy: 0.5195 - val_loss: 0.6948 - val_accuracy: 0.4878\n",
      "Epoch 80/100\n",
      "26/26 [==============================] - 0s 4ms/step - loss: 0.6924 - accuracy: 0.5195 - val_loss: 0.6948 - val_accuracy: 0.4878\n",
      "Epoch 81/100\n",
      "26/26 [==============================] - 0s 4ms/step - loss: 0.6924 - accuracy: 0.5195 - val_loss: 0.6948 - val_accuracy: 0.4878\n",
      "Epoch 82/100\n",
      "26/26 [==============================] - 0s 4ms/step - loss: 0.6924 - accuracy: 0.5195 - val_loss: 0.6948 - val_accuracy: 0.4878\n",
      "Epoch 83/100\n",
      "26/26 [==============================] - 0s 4ms/step - loss: 0.6924 - accuracy: 0.5195 - val_loss: 0.6948 - val_accuracy: 0.4878\n",
      "Epoch 84/100\n",
      "26/26 [==============================] - 0s 4ms/step - loss: 0.6924 - accuracy: 0.5195 - val_loss: 0.6948 - val_accuracy: 0.4878\n",
      "Epoch 85/100\n",
      "26/26 [==============================] - 0s 3ms/step - loss: 0.6924 - accuracy: 0.5195 - val_loss: 0.6948 - val_accuracy: 0.4878\n",
      "Epoch 86/100\n",
      "26/26 [==============================] - 0s 4ms/step - loss: 0.6924 - accuracy: 0.5195 - val_loss: 0.6948 - val_accuracy: 0.4878\n",
      "Epoch 87/100\n",
      "26/26 [==============================] - 0s 5ms/step - loss: 0.6924 - accuracy: 0.5195 - val_loss: 0.6948 - val_accuracy: 0.4878\n",
      "Epoch 88/100\n",
      "26/26 [==============================] - 0s 3ms/step - loss: 0.6924 - accuracy: 0.5195 - val_loss: 0.6948 - val_accuracy: 0.4878\n",
      "Epoch 89/100\n",
      "26/26 [==============================] - 0s 3ms/step - loss: 0.6924 - accuracy: 0.5195 - val_loss: 0.6948 - val_accuracy: 0.4878\n",
      "Epoch 90/100\n",
      "26/26 [==============================] - 0s 4ms/step - loss: 0.6924 - accuracy: 0.5195 - val_loss: 0.6948 - val_accuracy: 0.4878\n",
      "Epoch 91/100\n",
      "26/26 [==============================] - 0s 4ms/step - loss: 0.6924 - accuracy: 0.5195 - val_loss: 0.6948 - val_accuracy: 0.4878\n",
      "Epoch 92/100\n",
      "26/26 [==============================] - 0s 3ms/step - loss: 0.6924 - accuracy: 0.5195 - val_loss: 0.6948 - val_accuracy: 0.4878\n",
      "Epoch 93/100\n",
      "26/26 [==============================] - 0s 4ms/step - loss: 0.6924 - accuracy: 0.5195 - val_loss: 0.6948 - val_accuracy: 0.4878\n",
      "Epoch 94/100\n",
      "26/26 [==============================] - 0s 3ms/step - loss: 0.6924 - accuracy: 0.5195 - val_loss: 0.6948 - val_accuracy: 0.4878\n",
      "Epoch 95/100\n",
      "26/26 [==============================] - 0s 3ms/step - loss: 0.6924 - accuracy: 0.5195 - val_loss: 0.6948 - val_accuracy: 0.4878\n",
      "Epoch 96/100\n",
      "26/26 [==============================] - 0s 3ms/step - loss: 0.6924 - accuracy: 0.5195 - val_loss: 0.6948 - val_accuracy: 0.4878\n",
      "Epoch 97/100\n",
      "26/26 [==============================] - 0s 4ms/step - loss: 0.6924 - accuracy: 0.5195 - val_loss: 0.6948 - val_accuracy: 0.4878\n",
      "Epoch 98/100\n",
      "26/26 [==============================] - 0s 4ms/step - loss: 0.6924 - accuracy: 0.5195 - val_loss: 0.6948 - val_accuracy: 0.4878\n",
      "Epoch 99/100\n",
      "26/26 [==============================] - 0s 3ms/step - loss: 0.6924 - accuracy: 0.5195 - val_loss: 0.6948 - val_accuracy: 0.4878\n",
      "Epoch 100/100\n",
      "26/26 [==============================] - 0s 3ms/step - loss: 0.6924 - accuracy: 0.5195 - val_loss: 0.6948 - val_accuracy: 0.4878\n",
      "7/7 [==============================] - 0s 3ms/step - loss: 0.6948 - accuracy: 0.4878\n",
      "\n",
      "\n",
      "Test loss : 0.6947864294052124, Test accuracy :  0.4878048896789551\n"
     ]
    }
   ],
   "source": [
    "model.compile(optimizer = SGD(learning_rate = 0.01), loss = 'binary_crossentropy', metrics = ['accuracy'] )\n",
    "\n",
    "model.fit(x_train,y_train, epochs = 100, batch_size = 32, validation_data=(x_test, y_test))\n",
    "\n",
    "loss, accuracy = model.evaluate(x_test, y_test)\n",
    "\n",
    "print(f\"\\n\\nTest loss : {loss}, Test accuracy :  {accuracy}\")"
   ]
  },
  {
   "cell_type": "code",
   "execution_count": 38,
   "metadata": {
    "colab": {
     "base_uri": "https://localhost:8080/"
    },
    "executionInfo": {
     "elapsed": 5,
     "status": "ok",
     "timestamp": 1708423679501,
     "user": {
      "displayName": "MUCHALA RUTHVIKA BTech_AIML",
      "userId": "10842854182543952045"
     },
     "user_tz": -330
    },
    "id": "oD5NsSH_82d-",
    "outputId": "965e5b6e-271f-4c95-dbcf-e9e69f591ea8"
   },
   "outputs": [
    {
     "name": "stdout",
     "output_type": "stream",
     "text": [
      "7/7 [==============================] - 0s 5ms/step\n"
     ]
    }
   ],
   "source": [
    "# Prediction\n",
    "y_pred = model.predict(x_test)\n",
    "y_pred = (y_pred > 0.5)"
   ]
  },
  {
   "cell_type": "code",
   "execution_count": null,
   "metadata": {
    "id": "xqRTOw7Y_DNj"
   },
   "outputs": [],
   "source": [
    "# Performance metrics\n",
    "from sklearn.metrics import confusion_matrix\n"
   ]
  }
 ],
 "metadata": {
  "colab": {
   "authorship_tag": "ABX9TyPEZdZ9QeaSGrEEWizWSTQZ",
   "provenance": []
  },
  "kernelspec": {
   "display_name": "Python 3 (ipykernel)",
   "language": "python",
   "name": "python3"
  },
  "language_info": {
   "codemirror_mode": {
    "name": "ipython",
    "version": 3
   },
   "file_extension": ".py",
   "mimetype": "text/x-python",
   "name": "python",
   "nbconvert_exporter": "python",
   "pygments_lexer": "ipython3",
   "version": "3.9.13"
  }
 },
 "nbformat": 4,
 "nbformat_minor": 1
}
